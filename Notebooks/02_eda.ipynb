{
 "cells": [
  {
   "cell_type": "markdown",
   "id": "cfb097e1",
   "metadata": {},
   "source": [
    "### Objective: \n",
    "Explore the cleaned Walmart dataset to understand trends, seasonality, holiday effects, and feature relationships that influence weekly sales.\n",
    "\n",
    "### Input: \n",
    "data/processed/walmart_cleaned.csv\n",
    "\n",
    "### Output: \n",
    "Visual insights and hypotheses for modeling."
   ]
  },
  {
   "cell_type": "code",
   "execution_count": null,
   "id": "6cd0e232",
   "metadata": {},
   "outputs": [],
   "source": []
  }
 ],
 "metadata": {
  "language_info": {
   "name": "python"
  }
 },
 "nbformat": 4,
 "nbformat_minor": 5
}
